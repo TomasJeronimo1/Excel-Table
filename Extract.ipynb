{
 "cells": [
  {
   "cell_type": "markdown",
   "metadata": {},
   "source": [
    "# Excel Extract\n",
    "- This notebook is a template for to extract information via SQL queries using SQLITE and Pandas\n",
    "- The goal is to query the database and create an excel table with the required information that is ready to be sent to the stakeholders\n",
    "- In short, we access the database, create a Pandas DataFrame and do the necessary Data Wrangling. Finally, export and format the excel file."
   ]
  },
  {
   "cell_type": "code",
   "execution_count": 27,
   "metadata": {},
   "outputs": [],
   "source": [
    "import pandas as pd\n",
    "import numpy as np\n",
    "import sqlite3\n",
    "from openpyxl import load_workbook\n",
    "from openpyxl.styles import PatternFill, Font, Alignment, Border, Side\n",
    "from openpyxl.worksheet.table import Table, TableStyleInfo\n",
    "from datetime import datetime, timedelta"
   ]
  },
  {
   "cell_type": "code",
   "execution_count": 29,
   "metadata": {},
   "outputs": [],
   "source": [
    "other_entities = [\"Other\", \"z\", \"x\"]"
   ]
  },
  {
   "cell_type": "code",
   "execution_count": 24,
   "metadata": {},
   "outputs": [],
   "source": [
    "#Functions\n",
    "\n",
    "def auto_fit_columns(sheet):\n",
    "    for col in sheet.column:\n",
    "        max_length = 0\n",
    "        column = col[0].column_letter\n",
    "\n",
    "        for cell in col:\n",
    "            try:\n",
    "                if len(str(cell.value)) > max_length:\n",
    "                    max_length = len(cell.value)\n",
    "            except:\n",
    "                pass\n",
    "\n",
    "        adjusted_width = (max_length + 4)\n",
    "        sheet.column_dimensions[column].width = adjusted_width\n",
    "\n",
    "def table_formatting(excel_file, sheet, table_name):\n",
    "    wb = load_workbook(excel_file)\n",
    "    ws = wb[sheet]\n",
    "\n",
    "    start_row = 1\n",
    "    max_row = ws.max_row\n",
    "    start_col = 1\n",
    "    max_col = ws.max_column\n",
    "\n",
    "    #Turns data into excel table\n",
    "    table = Table(displayName=table_name, ref=ws.dimensions)\n",
    "    style = TableStyleInfo(name=\"TableStyleMedium4\",\n",
    "    showRowStripes=True)\n",
    "    table.tableStyleInfo = style\n",
    "\n",
    "    #Header Formatting Prep\n",
    "    header_font = Font(color=\"FFFFFF\", bold=True)\n",
    "    no_border = Border(left=Side(border_style=None),\n",
    "                       right=Side(border_style=None),\n",
    "                       top=Side(border_style=None),\n",
    "                       bottom=Side(border_style=None)\n",
    "                    )\n",
    "    \n",
    "    #Formatting Header\n",
    "    for col in range(1, max_col + 1):\n",
    "        cell = ws.cell(row=1, column=col)\n",
    "        cell.font = header_font\n",
    "        cell.alignment = Alignment(horizontal=\"left\")\n",
    "        cell.border = no_border\n",
    "\n",
    "    ws.add_table(table)\n",
    "    auto_fit_columns(ws)\n",
    "    wb.save(excel_file)"
   ]
  },
  {
   "cell_type": "code",
   "execution_count": 25,
   "metadata": {},
   "outputs": [],
   "source": [
    "con = sqlite3.connect(\"sqlite file path\")\n",
    "\n",
    "query = \"\"\"\n",
    "SELECT\n",
    "p.code AS \"Code\",\n",
    "a.name AS \"Status\",\n",
    "b.bcode AS \"B Code\",\n",
    "\n",
    "CASE\n",
    "    WHEN b.bcode IN (\"z\", \"x\")\n",
    "    THEN \"TRUE\"\n",
    "    ELSE \"FALSE\"\n",
    "END AS \"Selected Entity\"\n",
    "\n",
    "FROM p* AS p\n",
    "\n",
    "LEFT JOIN b* AS b\n",
    "ON p.bcode = b.bcode\n",
    "\n",
    "LEFT JOIN activity AS a\n",
    "ON p.status_code = a.code\n",
    "\n",
    "WHERE \"Selected Entity\" = \"TRUE\"\n",
    "AND a.name IN (\"ACTIVE\", \"NOT ACTIVE\")\n",
    "\"\"\""
   ]
  },
  {
   "cell_type": "code",
   "execution_count": 26,
   "metadata": {},
   "outputs": [],
   "source": [
    "# Get the previous month name to use on the file name\n",
    "today = datetime.now()\n",
    "first_day_of_the_current_month = today.replace(day=1)\n",
    "last_day_of_the_previous_month = first_day_of_the_current_month - timedelta(days=1)\n",
    "\n",
    "previous_month_name = last_day_of_the_previous_month.strftime(\"%B\")"
   ]
  },
  {
   "cell_type": "code",
   "execution_count": 30,
   "metadata": {},
   "outputs": [
    {
     "name": "stdout",
     "output_type": "stream",
     "text": [
      "Unable to Generate File\n"
     ]
    }
   ],
   "source": [
    "try:\n",
    "    extract_file = pd.read_sql_query(query,con)\n",
    "    extract_file[\"Code\"] = extract_file[\"Code\"].astype(int)\n",
    "    path = f\"path/file_name_({previous_month_name}).xlsx\"\n",
    "    extract_file.to_excel(path, index=False)\n",
    "    table_formatting(path, \"Sheet1\", \"extract\")\n",
    "    print(\"Generated Successfully\")\n",
    "except:\n",
    "    print(\"Unable to Generate File\")\n"
   ]
  }
 ],
 "metadata": {
  "kernelspec": {
   "display_name": "Python 3 (ipykernel)",
   "language": "python",
   "name": "python3"
  },
  "language_info": {
   "codemirror_mode": {
    "name": "ipython",
    "version": 3
   },
   "file_extension": ".py",
   "mimetype": "text/x-python",
   "name": "python",
   "nbconvert_exporter": "python",
   "pygments_lexer": "ipython3",
   "version": "3.8.10"
  }
 },
 "nbformat": 4,
 "nbformat_minor": 2
}
